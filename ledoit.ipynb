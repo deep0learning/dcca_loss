{
 "cells": [
  {
   "cell_type": "code",
   "execution_count": 10,
   "metadata": {
    "collapsed": true
   },
   "outputs": [],
   "source": [
    "# just to make sure I don't screw anything when moving ledoit to pytorch\n",
    "from ledoit_wolf import ledoit_wolf_shrinkage, ledoit_wolf_shrinkage_numpy\n",
    "from ledoit_wolf import ledoit_wolf_cov\n",
    "import torch\n",
    "from utils import center\n",
    "from sklearn.covariance import LedoitWolf\n"
   ]
  },
  {
   "cell_type": "code",
   "execution_count": 11,
   "metadata": {},
   "outputs": [],
   "source": [
    "X = torch.randn((32, 64))  # (o * m)\n",
    "X_bar = center(X)\n"
   ]
  },
  {
   "cell_type": "code",
   "execution_count": 12,
   "metadata": {},
   "outputs": [],
   "source": [
    "emp_cov = X_bar.mm(X_bar.t()) / X_bar.shape[1]\n",
    "s_torch, mu = ledoit_wolf_shrinkage(X_bar)\n",
    "s_numpy = ledoit_wolf_shrinkage_numpy(X_bar.t(), assume_centered=True, block_size=24)"
   ]
  },
  {
   "cell_type": "code",
   "execution_count": 13,
   "metadata": {},
   "outputs": [
    {
     "data": {
      "text/plain": [
       "0.8793479848151231"
      ]
     },
     "execution_count": 13,
     "metadata": {},
     "output_type": "execute_result"
    }
   ],
   "source": [
    "s_numpy"
   ]
  },
  {
   "cell_type": "code",
   "execution_count": 14,
   "metadata": {},
   "outputs": [
    {
     "data": {
      "text/plain": [
       "0.8793481588363647"
      ]
     },
     "execution_count": 14,
     "metadata": {},
     "output_type": "execute_result"
    }
   ],
   "source": [
    "s_torch"
   ]
  },
  {
   "cell_type": "code",
   "execution_count": 15,
   "metadata": {},
   "outputs": [],
   "source": [
    "import numpy as np\n",
    "assert np.allclose(s_torch, s_numpy)\n"
   ]
  },
  {
   "cell_type": "code",
   "execution_count": 16,
   "metadata": {},
   "outputs": [
    {
     "name": "stdout",
     "output_type": "stream",
     "text": [
      "shrinkage:  0.8793481588363647\n"
     ]
    }
   ],
   "source": [
    "cov_torch, _ = ledoit_wolf_cov(X_bar)\n",
    "LW = LedoitWolf(assume_centered=True)\n",
    "LW.fit(X_bar.t())\n",
    "cov_numpy = LW.covariance_\n",
    "\n"
   ]
  },
  {
   "cell_type": "code",
   "execution_count": 17,
   "metadata": {},
   "outputs": [],
   "source": [
    "# CALL IT A DAY!!!\n",
    "assert np.allclose(cov_torch.numpy(), cov_numpy)"
   ]
  },
  {
   "cell_type": "code",
   "execution_count": null,
   "metadata": {},
   "outputs": [],
   "source": []
  }
 ],
 "metadata": {
  "kernelspec": {
   "display_name": "Python 2",
   "language": "python",
   "name": "python2"
  },
  "language_info": {
   "codemirror_mode": {
    "name": "ipython",
    "version": 2
   },
   "file_extension": ".py",
   "mimetype": "text/x-python",
   "name": "python",
   "nbconvert_exporter": "python",
   "pygments_lexer": "ipython2",
   "version": "2.7.6"
  }
 },
 "nbformat": 4,
 "nbformat_minor": 0
}
