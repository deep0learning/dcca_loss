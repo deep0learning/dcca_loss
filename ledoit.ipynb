{
 "cells": [
  {
   "cell_type": "code",
   "execution_count": 1,
   "metadata": {
    "collapsed": true
   },
   "outputs": [],
   "source": [
    "# just to make sure I don't screw anything when moving ledoit to pytorch\n",
    "from ledoit_wolf import ledoit_wolf_shrinkage, ledoit_wolf_shrinkage_numpy\n",
    "from ledoit_wolf import ledoit_wolf_cov\n",
    "import torch\n",
    "from utils import center\n",
    "from sklearn.covariance import LedoitWolf\n"
   ]
  },
  {
   "cell_type": "code",
   "execution_count": 9,
   "metadata": {},
   "outputs": [],
   "source": [
    "X = torch.randn((32, 64))  # (o * m)\n",
    "X_bar = center(X)\n"
   ]
  },
  {
   "cell_type": "code",
   "execution_count": 10,
   "metadata": {},
   "outputs": [],
   "source": [
    "emp_cov = X_bar.mm(X_bar.t()) / X_bar.shape[1]\n",
    "s_torch, mu = ledoit_wolf_shrinkage(X_bar)\n",
    "s_numpy = ledoit_wolf_shrinkage_numpy(X_bar.t(), assume_centered=True, block_size=24)"
   ]
  },
  {
   "cell_type": "code",
   "execution_count": 11,
   "metadata": {},
   "outputs": [
    {
     "data": {
      "text/plain": [
       "0.9301492039839636"
      ]
     },
     "execution_count": 11,
     "metadata": {},
     "output_type": "execute_result"
    }
   ],
   "source": [
    "s_numpy"
   ]
  },
  {
   "cell_type": "code",
   "execution_count": 12,
   "metadata": {},
   "outputs": [
    {
     "data": {
      "text/plain": [
       "tensor(0.9301)"
      ]
     },
     "execution_count": 12,
     "metadata": {},
     "output_type": "execute_result"
    }
   ],
   "source": [
    "s_torch"
   ]
  },
  {
   "cell_type": "code",
   "execution_count": 13,
   "metadata": {},
   "outputs": [],
   "source": [
    "import numpy as np\n",
    "assert np.allclose(s_torch, s_numpy)\n"
   ]
  },
  {
   "cell_type": "code",
   "execution_count": 14,
   "metadata": {},
   "outputs": [
    {
     "name": "stdout",
     "output_type": "stream",
     "text": [
      "shrinkage:  tensor(0.9301)\n"
     ]
    }
   ],
   "source": [
    "cov_torch, _ = ledoit_wolf_cov(X_bar)\n",
    "LW = LedoitWolf(assume_centered=True)\n",
    "LW.fit(X_bar.t())\n",
    "cov_numpy = LW.covariance_\n",
    "\n"
   ]
  },
  {
   "cell_type": "code",
   "execution_count": 15,
   "metadata": {},
   "outputs": [
    {
     "name": "stdout",
     "output_type": "stream",
     "text": [
      "tensor([[ 0.9770, -0.0017,  0.0128,  ...,  0.0016,  0.0089,  0.0077],\n        [-0.0017,  0.9708, -0.0006,  ...,  0.0005, -0.0046, -0.0161],\n        [ 0.0128, -0.0006,  0.9696,  ..., -0.0028, -0.0025, -0.0037],\n        ...,\n        [ 0.0016,  0.0005, -0.0028,  ...,  0.9617, -0.0064, -0.0083],\n        [ 0.0089, -0.0046, -0.0025,  ..., -0.0064,  0.9766, -0.0022],\n        [ 0.0077, -0.0161, -0.0037,  ..., -0.0083, -0.0022,  0.9885]])\n[[ 9.76968169e-01 -1.73390880e-03  1.27656193e-02 ...  1.57147320e-03\n   8.88677105e-03  7.70288110e-03]\n [-1.73390880e-03  9.70830362e-01 -5.56984277e-04 ...  5.04710245e-04\n  -4.58912061e-03 -1.61219589e-02]\n [ 1.27656193e-02 -5.56984277e-04  9.69641140e-01 ... -2.83170068e-03\n  -2.47133041e-03 -3.65397822e-03]\n ...\n [ 1.57147320e-03  5.04710245e-04 -2.83170068e-03 ...  9.61685173e-01\n  -6.36314070e-03 -8.33735294e-03]\n [ 8.88677105e-03 -4.58912061e-03 -2.47133041e-03 ... -6.36314070e-03\n   9.76633173e-01 -2.16254041e-03]\n [ 7.70288110e-03 -1.61219589e-02 -3.65397822e-03 ... -8.33735294e-03\n  -2.16254041e-03  9.88525737e-01]]\n"
     ]
    }
   ],
   "source": [
    "# CALL IT A DAY!!!\n",
    "print(cov_torch)\n",
    "print(cov_numpy)\n",
    "assert np.allclose(cov_torch.numpy(), cov_numpy)"
   ]
  },
  {
   "cell_type": "code",
   "execution_count": 16,
   "metadata": {},
   "outputs": [],
   "source": []
  },
  {
   "cell_type": "code",
   "execution_count": null,
   "metadata": {},
   "outputs": [],
   "source": []
  }
 ],
 "metadata": {
  "kernelspec": {
   "display_name": "Python 2",
   "language": "python",
   "name": "python2"
  },
  "language_info": {
   "codemirror_mode": {
    "name": "ipython",
    "version": 2
   },
   "file_extension": ".py",
   "mimetype": "text/x-python",
   "name": "python",
   "nbconvert_exporter": "python",
   "pygments_lexer": "ipython2",
   "version": "2.7.6"
  }
 },
 "nbformat": 4,
 "nbformat_minor": 0
}
